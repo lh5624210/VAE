{
 "cells": [
  {
   "cell_type": "code",
   "execution_count": 37,
   "id": "b5995358",
   "metadata": {
    "ExecuteTime": {
     "end_time": "2022-06-02T10:36:52.505742Z",
     "start_time": "2022-06-02T10:36:50.635182Z"
    }
   },
   "outputs": [],
   "source": [
    "import tensorflow as tf\n",
    "from tensorflow import keras\n",
    "import matplotlib.pyplot as plt"
   ]
  },
  {
   "cell_type": "markdown",
   "id": "7abc3849",
   "metadata": {},
   "source": [
    "# 载入数据"
   ]
  },
  {
   "cell_type": "code",
   "execution_count": 2,
   "id": "c6d6e87b",
   "metadata": {
    "ExecuteTime": {
     "end_time": "2022-06-02T07:30:43.983605Z",
     "start_time": "2022-06-02T07:30:43.969668Z"
    }
   },
   "outputs": [],
   "source": [
    "mnist=keras.datasets.mnist"
   ]
  },
  {
   "cell_type": "code",
   "execution_count": 3,
   "id": "7aa40ba6",
   "metadata": {
    "ExecuteTime": {
     "end_time": "2022-06-02T07:30:44.298982Z",
     "start_time": "2022-06-02T07:30:43.986608Z"
    }
   },
   "outputs": [],
   "source": [
    "(x_trains,y_trains),(x_test,y_test)=mnist.load_data()"
   ]
  },
  {
   "cell_type": "code",
   "execution_count": 4,
   "id": "1c6ac769",
   "metadata": {
    "ExecuteTime": {
     "end_time": "2022-06-02T07:30:44.313821Z",
     "start_time": "2022-06-02T07:30:44.300827Z"
    }
   },
   "outputs": [
    {
     "data": {
      "text/plain": [
       "(60000, 28, 28)"
      ]
     },
     "execution_count": 4,
     "metadata": {},
     "output_type": "execute_result"
    }
   ],
   "source": [
    "x_trains.shape"
   ]
  },
  {
   "cell_type": "code",
   "execution_count": 5,
   "id": "d997f17d",
   "metadata": {
    "ExecuteTime": {
     "end_time": "2022-06-02T07:30:44.328753Z",
     "start_time": "2022-06-02T07:30:44.316784Z"
    }
   },
   "outputs": [
    {
     "data": {
      "text/plain": [
       "dtype('uint8')"
      ]
     },
     "execution_count": 5,
     "metadata": {},
     "output_type": "execute_result"
    }
   ],
   "source": [
    "x_trains.dtype"
   ]
  },
  {
   "cell_type": "code",
   "execution_count": 6,
   "id": "6c22dccb",
   "metadata": {
    "ExecuteTime": {
     "end_time": "2022-06-02T07:30:44.344731Z",
     "start_time": "2022-06-02T07:30:44.330749Z"
    }
   },
   "outputs": [
    {
     "data": {
      "text/plain": [
       "numpy.ndarray"
      ]
     },
     "execution_count": 6,
     "metadata": {},
     "output_type": "execute_result"
    }
   ],
   "source": [
    "type(x_trains)"
   ]
  },
  {
   "cell_type": "code",
   "execution_count": 207,
   "id": "d22b0a41",
   "metadata": {
    "ExecuteTime": {
     "end_time": "2022-06-04T02:45:59.061359Z",
     "start_time": "2022-06-04T02:45:58.878848Z"
    }
   },
   "outputs": [],
   "source": [
    "x_valid,x_train=x_trains[:5000]/255.0,x_trains[5000:]/255.0   # 255是像素强度，等价于将像素强度压缩到0-1\n",
    "y_valid,y_train=y_trains[:5000]/255.0,y_trains[5000:]/255.0"
   ]
  },
  {
   "cell_type": "markdown",
   "id": "762b06d2",
   "metadata": {},
   "source": [
    "# 将数据转为tensor"
   ]
  },
  {
   "cell_type": "code",
   "execution_count": 208,
   "id": "eb8f6018",
   "metadata": {
    "ExecuteTime": {
     "end_time": "2022-06-04T02:46:01.298380Z",
     "start_time": "2022-06-04T02:46:01.285414Z"
    }
   },
   "outputs": [],
   "source": [
    "x_valid=tf.constant(x_valid)\n",
    "x_train=tf.constant(x_train)\n",
    "x_test=tf.constant(x_test)\n",
    "y_valid=tf.constant(y_valid)\n",
    "y_train=tf.constant(y_train)\n",
    "y_test=tf.constant(y_test)"
   ]
  },
  {
   "cell_type": "code",
   "execution_count": 209,
   "id": "6a9fdb5f",
   "metadata": {
    "ExecuteTime": {
     "end_time": "2022-06-04T02:46:01.747178Z",
     "start_time": "2022-06-04T02:46:01.731223Z"
    }
   },
   "outputs": [
    {
     "data": {
      "text/plain": [
       "<tf.Tensor: shape=(55000, 28, 28), dtype=float64, numpy=\n",
       "array([[[0., 0., 0., ..., 0., 0., 0.],\n",
       "        [0., 0., 0., ..., 0., 0., 0.],\n",
       "        [0., 0., 0., ..., 0., 0., 0.],\n",
       "        ...,\n",
       "        [0., 0., 0., ..., 0., 0., 0.],\n",
       "        [0., 0., 0., ..., 0., 0., 0.],\n",
       "        [0., 0., 0., ..., 0., 0., 0.]],\n",
       "\n",
       "       [[0., 0., 0., ..., 0., 0., 0.],\n",
       "        [0., 0., 0., ..., 0., 0., 0.],\n",
       "        [0., 0., 0., ..., 0., 0., 0.],\n",
       "        ...,\n",
       "        [0., 0., 0., ..., 0., 0., 0.],\n",
       "        [0., 0., 0., ..., 0., 0., 0.],\n",
       "        [0., 0., 0., ..., 0., 0., 0.]],\n",
       "\n",
       "       [[0., 0., 0., ..., 0., 0., 0.],\n",
       "        [0., 0., 0., ..., 0., 0., 0.],\n",
       "        [0., 0., 0., ..., 0., 0., 0.],\n",
       "        ...,\n",
       "        [0., 0., 0., ..., 0., 0., 0.],\n",
       "        [0., 0., 0., ..., 0., 0., 0.],\n",
       "        [0., 0., 0., ..., 0., 0., 0.]],\n",
       "\n",
       "       ...,\n",
       "\n",
       "       [[0., 0., 0., ..., 0., 0., 0.],\n",
       "        [0., 0., 0., ..., 0., 0., 0.],\n",
       "        [0., 0., 0., ..., 0., 0., 0.],\n",
       "        ...,\n",
       "        [0., 0., 0., ..., 0., 0., 0.],\n",
       "        [0., 0., 0., ..., 0., 0., 0.],\n",
       "        [0., 0., 0., ..., 0., 0., 0.]],\n",
       "\n",
       "       [[0., 0., 0., ..., 0., 0., 0.],\n",
       "        [0., 0., 0., ..., 0., 0., 0.],\n",
       "        [0., 0., 0., ..., 0., 0., 0.],\n",
       "        ...,\n",
       "        [0., 0., 0., ..., 0., 0., 0.],\n",
       "        [0., 0., 0., ..., 0., 0., 0.],\n",
       "        [0., 0., 0., ..., 0., 0., 0.]],\n",
       "\n",
       "       [[0., 0., 0., ..., 0., 0., 0.],\n",
       "        [0., 0., 0., ..., 0., 0., 0.],\n",
       "        [0., 0., 0., ..., 0., 0., 0.],\n",
       "        ...,\n",
       "        [0., 0., 0., ..., 0., 0., 0.],\n",
       "        [0., 0., 0., ..., 0., 0., 0.],\n",
       "        [0., 0., 0., ..., 0., 0., 0.]]])>"
      ]
     },
     "execution_count": 209,
     "metadata": {},
     "output_type": "execute_result"
    }
   ],
   "source": [
    "x_train"
   ]
  },
  {
   "cell_type": "markdown",
   "id": "cd4d86b0",
   "metadata": {},
   "source": [
    "# 定义采样层"
   ]
  },
  {
   "cell_type": "code",
   "execution_count": 9,
   "id": "79b61c71",
   "metadata": {
    "ExecuteTime": {
     "end_time": "2022-06-02T07:30:45.004356Z",
     "start_time": "2022-06-02T07:30:44.993257Z"
    }
   },
   "outputs": [],
   "source": [
    "K=keras.backend"
   ]
  },
  {
   "cell_type": "code",
   "execution_count": 10,
   "id": "aa3eb6e5",
   "metadata": {
    "ExecuteTime": {
     "end_time": "2022-06-02T07:30:45.019513Z",
     "start_time": "2022-06-02T07:30:45.006211Z"
    }
   },
   "outputs": [],
   "source": [
    "class Sampling(keras.layers.Layer):\n",
    "    def call(self,inputs):\n",
    "        mean,log_var=inputs\n",
    "        return K.random_normal(tf.shape(log_var))*K.exp(log_var/2)+mean"
   ]
  },
  {
   "cell_type": "markdown",
   "id": "a9c2f85a",
   "metadata": {},
   "source": [
    "## 定义编码器"
   ]
  },
  {
   "cell_type": "code",
   "execution_count": 210,
   "id": "1a0ba1fe",
   "metadata": {
    "ExecuteTime": {
     "end_time": "2022-06-04T02:46:06.943288Z",
     "start_time": "2022-06-04T02:46:06.855524Z"
    }
   },
   "outputs": [],
   "source": [
    "codings_size=10\n",
    "encoder_inputs=keras.layers.Input(shape=[28,28,1])\n",
    "z=keras.layers.Flatten(input_shape=[28,28])(encoder_inputs)\n",
    "z=keras.layers.Dense(100,activation='relu')(z)\n",
    "z=keras.layers.Dense(100,activation='relu')(z)\n",
    "codings_mean=keras.layers.Dense(codings_size)(z)  # 计算μ\n",
    "codings_log_var=keras.layers.Dense(codings_size)(z)  # 计算γ=log(σ^2)\n",
    "codings=Sampling()([codings_mean,codings_log_var])\n",
    "variational_encoder=keras.Model(inputs=[encoder_inputs],outputs=[codings_mean,codings_log_var,codings])\n"
   ]
  },
  {
   "cell_type": "markdown",
   "id": "3214b702",
   "metadata": {},
   "source": [
    "## 定义解码器"
   ]
  },
  {
   "cell_type": "code",
   "execution_count": 211,
   "id": "1a216318",
   "metadata": {
    "ExecuteTime": {
     "end_time": "2022-06-04T02:46:07.950595Z",
     "start_time": "2022-06-04T02:46:07.881781Z"
    }
   },
   "outputs": [],
   "source": [
    "decoder_inputs=keras.layers.Input(shape=[codings_size])\n",
    "x=keras.layers.Dense(100,activation='relu')(decoder_inputs)\n",
    "x=keras.layers.Dense(100,activation='relu')(x)\n",
    "x=keras.layers.Dense(28*28,activation='sigmoid')(x)\n",
    "decoder_outputs=keras.layers.Reshape([28,28,1])(x)\n",
    "variational_decoder=keras.Model(inputs=[decoder_inputs],outputs=[decoder_outputs])"
   ]
  },
  {
   "cell_type": "markdown",
   "id": "ebe53031",
   "metadata": {},
   "source": [
    "## 整合变分自编码器"
   ]
  },
  {
   "cell_type": "code",
   "execution_count": 212,
   "id": "541b3d39",
   "metadata": {
    "ExecuteTime": {
     "end_time": "2022-06-04T02:46:09.036692Z",
     "start_time": "2022-06-04T02:46:08.962890Z"
    }
   },
   "outputs": [],
   "source": [
    "_,_,codings=variational_encoder(encoder_inputs)\n",
    "reconstruction=variational_decoder(codings)\n",
    "VAE=keras.Model(inputs=[encoder_inputs],outputs=[reconstruction])"
   ]
  },
  {
   "cell_type": "markdown",
   "id": "85d3e4a2",
   "metadata": {},
   "source": [
    "## 定义潜在损失和重构损失"
   ]
  },
  {
   "cell_type": "code",
   "execution_count": 213,
   "id": "f5340a34",
   "metadata": {
    "ExecuteTime": {
     "end_time": "2022-06-04T02:46:09.986155Z",
     "start_time": "2022-06-04T02:46:09.914348Z"
    }
   },
   "outputs": [],
   "source": [
    "latent_loss=-0.5*K.sum(1+codings_log_var-K.exp(codings_log_var)-K.square(codings_mean))\n",
    "VAE.add_loss(K.mean(latent_loss)/784.0)"
   ]
  },
  {
   "cell_type": "markdown",
   "id": "13a49acf",
   "metadata": {
    "ExecuteTime": {
     "end_time": "2022-06-02T06:32:01.135047Z",
     "start_time": "2022-06-02T06:32:01.126044Z"
    }
   },
   "source": [
    "## 定义优化策略和损失函数"
   ]
  },
  {
   "cell_type": "code",
   "execution_count": 214,
   "id": "0f6d7a33",
   "metadata": {
    "ExecuteTime": {
     "end_time": "2022-06-04T02:46:10.664343Z",
     "start_time": "2022-06-04T02:46:10.649383Z"
    }
   },
   "outputs": [],
   "source": [
    "VAE.compile(optimizer=keras.optimizers.Adam(learning_rate=0.0001),loss='mse')"
   ]
  },
  {
   "cell_type": "code",
   "execution_count": 215,
   "id": "4a3a7636",
   "metadata": {
    "ExecuteTime": {
     "end_time": "2022-06-04T02:46:11.089206Z",
     "start_time": "2022-06-04T02:46:11.072251Z"
    }
   },
   "outputs": [
    {
     "data": {
      "text/plain": [
       "TensorShape([55000])"
      ]
     },
     "execution_count": 215,
     "metadata": {},
     "output_type": "execute_result"
    }
   ],
   "source": [
    "y_train.shape"
   ]
  },
  {
   "cell_type": "markdown",
   "id": "140cddff",
   "metadata": {},
   "source": [
    "## 训练模型"
   ]
  },
  {
   "cell_type": "code",
   "execution_count": 221,
   "id": "5739dcaf",
   "metadata": {
    "ExecuteTime": {
     "end_time": "2022-06-04T03:19:47.304184Z",
     "start_time": "2022-06-04T03:06:54.569440Z"
    }
   },
   "outputs": [
    {
     "name": "stdout",
     "output_type": "stream",
     "text": [
      "Epoch 1/5\n",
      "55000/55000 [==============================] - 163s 3ms/step - loss: 1.3838e-04 - val_loss: 1.3027e-04\n",
      "Epoch 2/5\n",
      "55000/55000 [==============================] - 167s 3ms/step - loss: 1.3213e-04 - val_loss: 1.3011e-04\n",
      "Epoch 3/5\n",
      "55000/55000 [==============================] - 165s 3ms/step - loss: 1.3176e-04 - val_loss: 1.3236e-04\n",
      "Epoch 4/5\n",
      "55000/55000 [==============================] - 141s 3ms/step - loss: 1.3127e-04 - val_loss: 1.2795e-04\n",
      "Epoch 5/5\n",
      "55000/55000 [==============================] - 135s 2ms/step - loss: 1.3123e-04 - val_loss: 1.2909e-04\n"
     ]
    }
   ],
   "source": [
    "K.clear_session()\n",
    "history=VAE.fit(x_train,y_train,epochs=5,batch_size=1,validation_data=(x_valid,y_valid))"
   ]
  },
  {
   "cell_type": "code",
   "execution_count": 218,
   "id": "f13d36ab",
   "metadata": {
    "ExecuteTime": {
     "end_time": "2022-06-04T02:48:26.240205Z",
     "start_time": "2022-06-04T02:48:05.014930Z"
    }
   },
   "outputs": [
    {
     "name": "stdout",
     "output_type": "stream",
     "text": [
      "10000/10000 [==============================] - 21s 2ms/step - loss: 28.0605\n"
     ]
    },
    {
     "data": {
      "text/plain": [
       "28.060462951660156"
      ]
     },
     "execution_count": 218,
     "metadata": {},
     "output_type": "execute_result"
    }
   ],
   "source": [
    "VAE.evaluate(x_test,y_test,batch_size=1)"
   ]
  },
  {
   "cell_type": "code",
   "execution_count": 1,
   "id": "c0ae88b0",
   "metadata": {
    "ExecuteTime": {
     "end_time": "2022-06-06T05:41:35.768361Z",
     "start_time": "2022-06-06T05:41:35.755431Z"
    }
   },
   "outputs": [],
   "source": [
    "def plot_image(image):\n",
    "    plt.imshow(image,cmap='gray')\n",
    "    plt.axis('off')\n",
    "\n",
    "def show_reconstrution(model,n_image=5):\n",
    "    reconstruction=model.predict(x_test[:n_image].numpy().reshape(28,28))\n",
    "    fig=plt.figure(figsize=(n_image*1.5,3))\n",
    "    for i in range(n_image):\n",
    "        plt.subplot(2,n_image,1+i)\n",
    "        plot_image(x_test[i])\n",
    "        plt.subplot(2,n_image,1+n_image+i)\n",
    "        plot_image(reconstruction[i])\n",
    "        "
   ]
  },
  {
   "cell_type": "code",
   "execution_count": 220,
   "id": "c4f80f1e",
   "metadata": {
    "ExecuteTime": {
     "end_time": "2022-06-04T02:48:27.389133Z",
     "start_time": "2022-06-04T02:48:26.773780Z"
    },
    "scrolled": true
   },
   "outputs": [
    {
     "data": {
      "image/png": "[encoded data removed]",
      "text/plain": [
       "<Figure size 540x216 with 10 Axes>"
      ]
     },
     "metadata": {
      "needs_background": "light"
     },
     "output_type": "display_data"
    }
   ],
   "source": [
    "show_reconstrution(VAE)"
   ]
  },
  {
   "cell_type": "code",
   "execution_count": null,
   "id": "89c92dea",
   "metadata": {},
   "outputs": [],
   "source": []
  }
 ],
 "metadata": {
  "interpreter": {
   "hash": "7758e92e9a61d7a3490898707f7eeb937c85e9d1e8d4e877cc6c187218f226d5"
  },
  "kernelspec": {
   "display_name": "Python 3 (ipykernel)",
   "language": "python",
   "name": "python3"
  },
  "language_info": {
   "codemirror_mode": {
    "name": "ipython",
    "version": 3
   },
   "file_extension": ".py",
   "mimetype": "text/x-python",
   "name": "python",
   "nbconvert_exporter": "python",
   "pygments_lexer": "ipython3",
   "version": "3.9.7"
  },
  "toc": {
   "base_numbering": 1,
   "nav_menu": {},
   "number_sections": true,
   "sideBar": true,
   "skip_h1_title": false,
   "title_cell": "Table of Contents",
   "title_sidebar": "Contents",
   "toc_cell": false,
   "toc_position": {},
   "toc_section_display": true,
   "toc_window_display": false
  },
  "varInspector": {
   "cols": {
    "lenName": 16,
    "lenType": 16,
    "lenVar": 40
   },
   "kernels_config": {
    "python": {
     "delete_cmd_postfix": "",
     "delete_cmd_prefix": "del ",
     "library": "var_list.py",
     "varRefreshCmd": "print(var_dic_list())"
    },
    "r": {
     "delete_cmd_postfix": ") ",
     "delete_cmd_prefix": "rm(",
     "library": "var_list.r",
     "varRefreshCmd": "cat(var_dic_list()) "
    }
   },
   "types_to_exclude": [
    "module",
    "function",
    "builtin_function_or_method",
    "instance",
    "_Feature"
   ],
   "window_display": false
  }
 },
 "nbformat": 4,
 "nbformat_minor": 5
}
